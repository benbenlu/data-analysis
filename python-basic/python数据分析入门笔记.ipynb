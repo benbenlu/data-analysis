{
 "cells": [
  {
   "cell_type": "markdown",
   "metadata": {},
   "source": [
    "### 入门：jupyter notebook的使用\n",
    "\n",
    "#### 在jupyter notebook中中如何开启代码自动补全功能\n",
    "1. 参考资料：[Jupyter Notebook 添加代码自动补全功能](https://www.jianshu.com/p/0ab80f63af8a)\n",
    "2. 参考资料：[如何优雅地使用 Jupyter](https://www.zhihu.com/question/59392251)\n",
    "\n",
    "#### 在jupyter notebook中如何导入依赖包\n",
    "1. notebook中不能像在本地conda环境中引入numpy等这些包，是因为jupyter的shell与python的kernel不一样，所以需要用以下方式来引入\n",
    "2. 参考资料：[如何在jupyter nootbook中安装python包](https://huangweiran.club/2018/05/14/%E7%BF%BB%E8%AF%91%EF%BC%9A%E5%A6%82%E4%BD%95%E5%9C%A8Jupyter-notebook%E4%B8%AD%E5%AE%89%E8%A3%85Python%E5%8C%85%EF%BC%9F/index.html)\n",
    "\n"
   ]
  },
  {
   "cell_type": "code",
   "execution_count": 16,
   "metadata": {},
   "outputs": [
    {
     "name": "stdout",
     "output_type": "stream",
     "text": [
      "Requirement already satisfied: numpy in d:\\python\\lib\\site-packages (1.16.2)\n",
      "Collecting unicodecsv\n",
      "  Downloading https://files.pythonhosted.org/packages/6f/a4/691ab63b17505a26096608cc309960b5a6bdf39e4ba1a793d5f9b1a53270/unicodecsv-0.14.1.tar.gz\n",
      "Installing collected packages: unicodecsv\n",
      "  Running setup.py install for unicodecsv: started\n",
      "    Running setup.py install for unicodecsv: finished with status 'done'\n",
      "Successfully installed unicodecsv-0.14.1\n"
     ]
    },
    {
     "name": "stderr",
     "output_type": "stream",
     "text": [
      "You are using pip version 18.1, however version 19.0.3 is available.\n",
      "You should consider upgrading via the 'python -m pip install --upgrade pip' command.\n"
     ]
    }
   ],
   "source": [
    "import sys\n",
    "!{sys.executable} -m pip install numpy unicodecsv"
   ]
  },
  {
   "cell_type": "markdown",
   "metadata": {},
   "source": [
    "### 读取csv文件时关于数据类型的注意事项\n",
    "#### 读出的所有列数据都为字符串，需要将其转换为对应的数据类型，如date、int、boolean、float等，也就是数据的预处理，这一步很关键，一定要提前做，然后再进行计算处理\n"
   ]
  },
  {
   "cell_type": "code",
   "execution_count": 32,
   "metadata": {},
   "outputs": [],
   "source": [
    "import unicodecsv\n",
    "def read_csv(file):\n",
    "    with open(file, 'rb') as f:\n",
    "        reader = unicodecsv.DictReader(f)\n",
    "        return list(reader)\n",
    "\n",
    "result = read_csv('../analysis_process_01/csv/test.csv')\n",
    "# print('result', result)"
   ]
  },
  {
   "cell_type": "markdown",
   "metadata": {},
   "source": [
    "#### 增以下两种方式加附加列（建议用数字比较用整形，以免一不小心敲个空格，检查半天错误）"
   ]
  },
  {
   "cell_type": "code",
   "execution_count": 34,
   "metadata": {},
   "outputs": [
    {
     "name": "stdout",
     "output_type": "stream",
     "text": [
      "OrderedDict([('acct', '0'), ('utc_date', '2015/1/9'), ('num_courses_visited', '1'), ('total_minutes_visited', '11.6793745'), ('lessons_completed', '0'), ('has_visited', 1), ('has_visited1', 1)])\n",
      "OrderedDict([('acct', '0'), ('utc_date', '2015/1/10'), ('num_courses_visited', '2'), ('total_minutes_visited', '37.28488733'), ('lessons_completed', '0'), ('has_visited', 1), ('has_visited1', 1)])\n",
      "OrderedDict([('acct', '0'), ('utc_date', '2015/1/11'), ('num_courses_visited', '2'), ('total_minutes_visited', '53.63374633'), ('lessons_completed', '0'), ('has_visited', 1), ('has_visited1', 1)])\n",
      "OrderedDict([('acct', '0'), ('utc_date', '2015/1/12'), ('num_courses_visited', '1'), ('total_minutes_visited', '33.48926967'), ('lessons_completed', '0'), ('has_visited', 1), ('has_visited1', 1)])\n",
      "OrderedDict([('acct', '0'), ('utc_date', '2015/1/13'), ('num_courses_visited', '1'), ('total_minutes_visited', '64.77967767'), ('lessons_completed', '0'), ('has_visited', 1), ('has_visited1', 1)])\n",
      "OrderedDict([('acct', '0'), ('utc_date', '2015/1/14'), ('num_courses_visited', '1'), ('total_minutes_visited', '151.6175768'), ('lessons_completed', '1'), ('has_visited', 1), ('has_visited1', 1)])\n",
      "OrderedDict([('acct', '0'), ('utc_date', '2015/1/15'), ('num_courses_visited', '1'), ('total_minutes_visited', '142.3959638'), ('lessons_completed', '0'), ('has_visited', 1), ('has_visited1', 1)])\n",
      "OrderedDict([('acct', '0'), ('utc_date', '2015/1/15'), ('num_courses_visited', '0'), ('total_minutes_visited', '142.3959638'), ('lessons_completed', '0'), ('has_visited', 0), ('has_visited1', 0)])\n",
      "OrderedDict([('acct', '0'), ('utc_date', '2015/1/15'), ('num_courses_visited', '0'), ('total_minutes_visited', '142.3959638'), ('lessons_completed', '0'), ('has_visited', 0), ('has_visited1', 0)])\n",
      "has_visited与has_visited1 1 1\n",
      "has_visited与has_visited1 1 1\n",
      "has_visited与has_visited1 1 1\n",
      "has_visited与has_visited1 1 1\n",
      "has_visited与has_visited1 1 1\n",
      "has_visited与has_visited1 1 1\n",
      "has_visited与has_visited1 1 1\n",
      "has_visited与has_visited1 0 0\n",
      "has_visited与has_visited1 0 0\n"
     ]
    }
   ],
   "source": [
    "for item in result:\n",
    "    if item['num_courses_visited'] == '0':\n",
    "        item['has_visited'] = 0\n",
    "    else:\n",
    "        item['has_visited'] = 1\n",
    "    print(item)\n",
    "\n",
    "\n",
    "for item in result:\n",
    "    if int(item['num_courses_visited']) > 0:\n",
    "        item['has_visited1'] = 1\n",
    "    else:\n",
    "        item['has_visited1'] = 0\n"
   ]
  },
  {
   "cell_type": "markdown",
   "metadata": {},
   "source": [
    "### 数据分析的基本步骤\n",
    "#### 数据预处理\n",
    "##### 数据类型修正\n",
    "##### 观察数据中存在的疑问（以数据分析课程注册表、上课登记表、提交记录表为例）\n",
    "1. 首先做的是，对三张表中的学员学号进行去重，然后发现，登记表中的学员数明显偏少，然后就打印出该部分数据，\n",
    "2. 观察其特征发现是测试账号，找出测试账号，并在三张表中排除此类数据\n",
    "3. 提出研究问题，研究通过课程的同学和未通过的日常学习（主要看第一桌）有何差别（上课时间、完成课程、学习天数）\n",
    "4. 分析问题所需要的有效数据：排除掉第一周内就注销掉的学生，因为该类学生数据存在会对分析造成一定的影响\n",
    "5. 根据计算出的数据，观察数据是否正常，如果有异常，把异常的数据找出来；\n",
    "例如本例中最大分钟数比总的学习分钟数还大，找出此类数据，观察到其注册时间晚于学习时间，该类学生是注销后再次注册的，学习时间不在统一维度，因此也要排除掉该类数据。\n",
    "6. 排除后再对数据进行比较，初步得出结论\n",
    "7. 相关关系不代表因果关系，影响因素还会有其他的。\n",
    "8. 根据对影响因素的分析，可进行A/B测试进一步探究问题\n",
    "9. 基于众多特征再进行预测，多个因素综合考虑，机器学习\n",
    "10. 将所得出的结论展示给其他人\n"
   ]
  },
  {
   "cell_type": "markdown",
   "metadata": {},
   "source": [
    "### numpy简单用法总结\n",
    "#### 索引数组\n",
    "1. 索引数组为布尔类型数组时的情况\n",
    "2. 索引数组为整形数组时的情况"
   ]
  },
  {
   "cell_type": "code",
   "execution_count": 8,
   "metadata": {},
   "outputs": [
    {
     "name": "stdout",
     "output_type": "stream",
     "text": [
      "a[b] [3 4 5]\n",
      "c [False False  True  True  True]\n",
      "a[d] [2 3 4 5 2]\n",
      "a[a > 2] [3 4 5]\n"
     ]
    }
   ],
   "source": [
    "import numpy as np\n",
    "a = np.array([1, 2, 3, 4, 5])\n",
    "d = np.array([1, 2, 3, 4, 1]) # 整形类型索引数组\n",
    "c = (a > 2)\n",
    "b = np.array([False, False, True, True, True]) # 布尔类型索引数组\n",
    "# 理解\n",
    "print('a[b]', a[b])\n",
    "\n",
    "print('c', c)\n",
    "print('a[d]', a[d])\n",
    "\n",
    "# 返回a\n",
    "print('a[a > 2]', a[a > 2])"
   ]
  },
  {
   "cell_type": "markdown",
   "metadata": {},
   "source": [
    "#### +与+=\n",
    "1. += 运算会给原变量再次赋值\n",
    "2. + 会重新创建一个变量，然后再把这个变量给了a"
   ]
  },
  {
   "cell_type": "code",
   "execution_count": 10,
   "metadata": {},
   "outputs": [
    {
     "name": "stdout",
     "output_type": "stream",
     "text": [
      "b1 [2 3 4 5 6]\n",
      "b2 [1 2 3 4 5]\n"
     ]
    }
   ],
   "source": [
    "a1 = np.array([1, 2, 3, 4, 5])\n",
    "b1 = a1\n",
    "a1 += np.array([1, 1, 1, 1, 1])\n",
    "print('b1', b1)\n",
    "\n",
    "a2 = np.array([1, 2, 3, 4, 5])\n",
    "b2 = a2\n",
    "a2 = a2 + np.array([1, 1, 1, 1, 1])\n",
    "print('b2', b2)"
   ]
  },
  {
   "cell_type": "markdown",
   "metadata": {},
   "source": [
    "#### 原位运算与非原位运算\n",
    "1. += 是原位运算，而+不是\n",
    "2. numpy中的slice，切片是原数组的一个视图，改变其值，原数组的值也会改变；这使得numpy中的的数据切片速度很快。不需要创建或者复制数组，但是如果修改值，需要谨慎处理。"
   ]
  },
  {
   "cell_type": "markdown",
   "metadata": {},
   "source": [
    "### pandas简单用法总结\n",
    "#### 概述\n",
    "#### loc与iloc？\n",
    "#### pandas.series，按索引相加结果，NaN为啥是float64?\n",
    "#### pandas.iargmax定位到最大值的索引，iloc返回对应的值\n",
    "#### series相加时，如果索引相加时找不到，则出现NaN,删掉缺失值，result.dropna(),\n",
    "另外一种方法就是，a.add(b, fill_value = 0)"
   ]
  },
  {
   "cell_type": "code",
   "execution_count": null,
   "metadata": {},
   "outputs": [],
   "source": []
  }
 ],
 "metadata": {
  "kernelspec": {
   "display_name": "Python 3",
   "language": "python",
   "name": "python3"
  },
  "language_info": {
   "codemirror_mode": {
    "name": "ipython",
    "version": 3
   },
   "file_extension": ".py",
   "mimetype": "text/x-python",
   "name": "python",
   "nbconvert_exporter": "python",
   "pygments_lexer": "ipython3",
   "version": "3.7.2"
  },
  "toc": {
   "base_numbering": 1,
   "nav_menu": {},
   "number_sections": true,
   "sideBar": true,
   "skip_h1_title": false,
   "title_cell": "Table of Contents",
   "title_sidebar": "Contents",
   "toc_cell": false,
   "toc_position": {},
   "toc_section_display": true,
   "toc_window_display": false
  }
 },
 "nbformat": 4,
 "nbformat_minor": 2
}
